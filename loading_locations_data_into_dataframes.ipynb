{
 "cells": [
  {
   "cell_type": "code",
   "execution_count": 10,
   "metadata": {},
   "outputs": [],
   "source": [
    "from glob import glob\n",
    "import pandas as pd\n",
    "import os\n",
    "import json"
   ]
  },
  {
   "cell_type": "markdown",
   "metadata": {},
   "source": [
    "## Read a single JSON"
   ]
  },
  {
   "cell_type": "markdown",
   "metadata": {},
   "source": [
    "Define a function called read_json. Given a string representing a file path to a json file, this function should open said file and convert its contens into a json object."
   ]
  },
  {
   "cell_type": "code",
   "execution_count": 11,
   "metadata": {},
   "outputs": [],
   "source": [
    "#implement me\n",
    "def read_json(file_path):\n",
    "    with open(file_path) as f:\n",
    "        json_input = json.load(f)\n",
    "    return json_input\n",
    "    \n",
    "    \n",
    "\n"
   ]
  },
  {
   "cell_type": "markdown",
   "metadata": {},
   "source": [
    "Use the read_json function defined above to read the contents of one of the locations_4.json file acquired in the Data Acquisition Lab."
   ]
  },
  {
   "cell_type": "code",
   "execution_count": 12,
   "metadata": {},
   "outputs": [],
   "source": [
    "file_path = os.path.join('./', 'data', 'locations', 'location_4.json')\n",
    "json_contents = read_json(file_path)"
   ]
  },
  {
   "cell_type": "markdown",
   "metadata": {},
   "source": [
    "Display the value of the json_contents variable defined above."
   ]
  },
  {
   "cell_type": "code",
   "execution_count": 9,
   "metadata": {},
   "outputs": [
    {
     "data": {
      "text/plain": [
       "{'metadata': {'resultset': {'offset': 4001, 'count': 38860, 'limit': 25}},\n",
       " 'results': [{'mindate': '1893-02-01',\n",
       "   'maxdate': '2020-03-15',\n",
       "   'name': 'Powder River County, MT',\n",
       "   'datacoverage': 1,\n",
       "   'id': 'FIPS:30075'},\n",
       "  {'mindate': '1893-01-01',\n",
       "   'maxdate': '2020-03-15',\n",
       "   'name': 'Powell County, MT',\n",
       "   'datacoverage': 1,\n",
       "   'id': 'FIPS:30077'},\n",
       "  {'mindate': '1904-11-01',\n",
       "   'maxdate': '2020-03-15',\n",
       "   'name': 'Prairie County, MT',\n",
       "   'datacoverage': 1,\n",
       "   'id': 'FIPS:30079'},\n",
       "  {'mindate': '1895-06-12',\n",
       "   'maxdate': '2020-03-15',\n",
       "   'name': 'Ravalli County, MT',\n",
       "   'datacoverage': 1,\n",
       "   'id': 'FIPS:30081'},\n",
       "  {'mindate': '1900-05-04',\n",
       "   'maxdate': '2020-03-16',\n",
       "   'name': 'Richland County, MT',\n",
       "   'datacoverage': 1,\n",
       "   'id': 'FIPS:30083'},\n",
       "  {'mindate': '1893-02-01',\n",
       "   'maxdate': '2020-03-16',\n",
       "   'name': 'Roosevelt County, MT',\n",
       "   'datacoverage': 1,\n",
       "   'id': 'FIPS:30085'},\n",
       "  {'mindate': '1903-01-01',\n",
       "   'maxdate': '2020-03-15',\n",
       "   'name': 'Rosebud County, MT',\n",
       "   'datacoverage': 1,\n",
       "   'id': 'FIPS:30087'},\n",
       "  {'mindate': '1898-09-01',\n",
       "   'maxdate': '2020-03-15',\n",
       "   'name': 'Sanders County, MT',\n",
       "   'datacoverage': 1,\n",
       "   'id': 'FIPS:30089'},\n",
       "  {'mindate': '1906-07-06',\n",
       "   'maxdate': '2020-03-15',\n",
       "   'name': 'Sheridan County, MT',\n",
       "   'datacoverage': 1,\n",
       "   'id': 'FIPS:30091'},\n",
       "  {'mindate': '1909-08-01',\n",
       "   'maxdate': '2020-03-16',\n",
       "   'name': 'Silver Bow County, MT',\n",
       "   'datacoverage': 1,\n",
       "   'id': 'FIPS:30093'},\n",
       "  {'mindate': '1905-03-16',\n",
       "   'maxdate': '2020-03-15',\n",
       "   'name': 'Stillwater County, MT',\n",
       "   'datacoverage': 1,\n",
       "   'id': 'FIPS:30095'},\n",
       "  {'mindate': '1894-04-08',\n",
       "   'maxdate': '2020-03-15',\n",
       "   'name': 'Sweet Grass County, MT',\n",
       "   'datacoverage': 1,\n",
       "   'id': 'FIPS:30097'},\n",
       "  {'mindate': '1893-01-01',\n",
       "   'maxdate': '2020-03-15',\n",
       "   'name': 'Teton County, MT',\n",
       "   'datacoverage': 1,\n",
       "   'id': 'FIPS:30099'},\n",
       "  {'mindate': '1905-06-20',\n",
       "   'maxdate': '2020-03-15',\n",
       "   'name': 'Toole County, MT',\n",
       "   'datacoverage': 1,\n",
       "   'id': 'FIPS:30101'},\n",
       "  {'mindate': '1925-09-01',\n",
       "   'maxdate': '2020-03-15',\n",
       "   'name': 'Treasure County, MT',\n",
       "   'datacoverage': 1,\n",
       "   'id': 'FIPS:30103'},\n",
       "  {'mindate': '1893-07-01',\n",
       "   'maxdate': '2020-03-16',\n",
       "   'name': 'Valley County, MT',\n",
       "   'datacoverage': 1,\n",
       "   'id': 'FIPS:30105'},\n",
       "  {'mindate': '1895-05-19',\n",
       "   'maxdate': '2020-03-15',\n",
       "   'name': 'Wheatland County, MT',\n",
       "   'datacoverage': 1,\n",
       "   'id': 'FIPS:30107'},\n",
       "  {'mindate': '1895-06-01',\n",
       "   'maxdate': '2020-03-15',\n",
       "   'name': 'Wibaux County, MT',\n",
       "   'datacoverage': 1,\n",
       "   'id': 'FIPS:30109'},\n",
       "  {'mindate': '1906-10-13',\n",
       "   'maxdate': '2020-03-16',\n",
       "   'name': 'Yellowstone County, MT',\n",
       "   'datacoverage': 1,\n",
       "   'id': 'FIPS:30111'},\n",
       "  {'mindate': '1878-05-01',\n",
       "   'maxdate': '2020-03-16',\n",
       "   'name': 'Nebraska',\n",
       "   'datacoverage': 1,\n",
       "   'id': 'FIPS:31'},\n",
       "  {'mindate': '1894-11-01',\n",
       "   'maxdate': '2020-03-16',\n",
       "   'name': 'Adams County, NE',\n",
       "   'datacoverage': 1,\n",
       "   'id': 'FIPS:31001'},\n",
       "  {'mindate': '1893-01-01',\n",
       "   'maxdate': '2020-03-15',\n",
       "   'name': 'Antelope County, NE',\n",
       "   'datacoverage': 1,\n",
       "   'id': 'FIPS:31003'},\n",
       "  {'mindate': '1909-08-01',\n",
       "   'maxdate': '2020-03-15',\n",
       "   'name': 'Arthur County, NE',\n",
       "   'datacoverage': 1,\n",
       "   'id': 'FIPS:31005'},\n",
       "  {'mindate': '1922-05-15',\n",
       "   'maxdate': '2020-03-15',\n",
       "   'name': 'Banner County, NE',\n",
       "   'datacoverage': 1,\n",
       "   'id': 'FIPS:31007'},\n",
       "  {'mindate': '1893-01-01',\n",
       "   'maxdate': '2020-03-15',\n",
       "   'name': 'Blaine County, NE',\n",
       "   'datacoverage': 1,\n",
       "   'id': 'FIPS:31009'}]}"
      ]
     },
     "execution_count": 9,
     "metadata": {},
     "output_type": "execute_result"
    }
   ],
   "source": [
    "json_contents \n"
   ]
  },
  {
   "cell_type": "markdown",
   "metadata": {},
   "source": [
    "## Convert JSON Into a DataFrame"
   ]
  },
  {
   "cell_type": "markdown",
   "metadata": {},
   "source": [
    "Using the json_contents variable, create a Pandas dataframe."
   ]
  },
  {
   "cell_type": "code",
   "execution_count": 118,
   "metadata": {},
   "outputs": [],
   "source": [
    "# Create DataFrame here.\n",
    "df_json = pd.DataFrame(json_contents[\"results\"])\n"
   ]
  },
  {
   "cell_type": "markdown",
   "metadata": {},
   "source": [
    "Display the contents of the DataFrame. "
   ]
  },
  {
   "cell_type": "code",
   "execution_count": 119,
   "metadata": {},
   "outputs": [
    {
     "data": {
      "text/html": [
       "<div>\n",
       "<style scoped>\n",
       "    .dataframe tbody tr th:only-of-type {\n",
       "        vertical-align: middle;\n",
       "    }\n",
       "\n",
       "    .dataframe tbody tr th {\n",
       "        vertical-align: top;\n",
       "    }\n",
       "\n",
       "    .dataframe thead th {\n",
       "        text-align: right;\n",
       "    }\n",
       "</style>\n",
       "<table border=\"1\" class=\"dataframe\">\n",
       "  <thead>\n",
       "    <tr style=\"text-align: right;\">\n",
       "      <th></th>\n",
       "      <th>mindate</th>\n",
       "      <th>maxdate</th>\n",
       "      <th>name</th>\n",
       "      <th>datacoverage</th>\n",
       "      <th>id</th>\n",
       "    </tr>\n",
       "  </thead>\n",
       "  <tbody>\n",
       "    <tr>\n",
       "      <td>0</td>\n",
       "      <td>1893-02-01</td>\n",
       "      <td>2020-03-15</td>\n",
       "      <td>Powder River County, MT</td>\n",
       "      <td>1</td>\n",
       "      <td>FIPS:30075</td>\n",
       "    </tr>\n",
       "    <tr>\n",
       "      <td>1</td>\n",
       "      <td>1893-01-01</td>\n",
       "      <td>2020-03-15</td>\n",
       "      <td>Powell County, MT</td>\n",
       "      <td>1</td>\n",
       "      <td>FIPS:30077</td>\n",
       "    </tr>\n",
       "    <tr>\n",
       "      <td>2</td>\n",
       "      <td>1904-11-01</td>\n",
       "      <td>2020-03-15</td>\n",
       "      <td>Prairie County, MT</td>\n",
       "      <td>1</td>\n",
       "      <td>FIPS:30079</td>\n",
       "    </tr>\n",
       "    <tr>\n",
       "      <td>3</td>\n",
       "      <td>1895-06-12</td>\n",
       "      <td>2020-03-15</td>\n",
       "      <td>Ravalli County, MT</td>\n",
       "      <td>1</td>\n",
       "      <td>FIPS:30081</td>\n",
       "    </tr>\n",
       "    <tr>\n",
       "      <td>4</td>\n",
       "      <td>1900-05-04</td>\n",
       "      <td>2020-03-16</td>\n",
       "      <td>Richland County, MT</td>\n",
       "      <td>1</td>\n",
       "      <td>FIPS:30083</td>\n",
       "    </tr>\n",
       "    <tr>\n",
       "      <td>5</td>\n",
       "      <td>1893-02-01</td>\n",
       "      <td>2020-03-16</td>\n",
       "      <td>Roosevelt County, MT</td>\n",
       "      <td>1</td>\n",
       "      <td>FIPS:30085</td>\n",
       "    </tr>\n",
       "    <tr>\n",
       "      <td>6</td>\n",
       "      <td>1903-01-01</td>\n",
       "      <td>2020-03-15</td>\n",
       "      <td>Rosebud County, MT</td>\n",
       "      <td>1</td>\n",
       "      <td>FIPS:30087</td>\n",
       "    </tr>\n",
       "    <tr>\n",
       "      <td>7</td>\n",
       "      <td>1898-09-01</td>\n",
       "      <td>2020-03-15</td>\n",
       "      <td>Sanders County, MT</td>\n",
       "      <td>1</td>\n",
       "      <td>FIPS:30089</td>\n",
       "    </tr>\n",
       "    <tr>\n",
       "      <td>8</td>\n",
       "      <td>1906-07-06</td>\n",
       "      <td>2020-03-15</td>\n",
       "      <td>Sheridan County, MT</td>\n",
       "      <td>1</td>\n",
       "      <td>FIPS:30091</td>\n",
       "    </tr>\n",
       "    <tr>\n",
       "      <td>9</td>\n",
       "      <td>1909-08-01</td>\n",
       "      <td>2020-03-16</td>\n",
       "      <td>Silver Bow County, MT</td>\n",
       "      <td>1</td>\n",
       "      <td>FIPS:30093</td>\n",
       "    </tr>\n",
       "    <tr>\n",
       "      <td>10</td>\n",
       "      <td>1905-03-16</td>\n",
       "      <td>2020-03-15</td>\n",
       "      <td>Stillwater County, MT</td>\n",
       "      <td>1</td>\n",
       "      <td>FIPS:30095</td>\n",
       "    </tr>\n",
       "    <tr>\n",
       "      <td>11</td>\n",
       "      <td>1894-04-08</td>\n",
       "      <td>2020-03-15</td>\n",
       "      <td>Sweet Grass County, MT</td>\n",
       "      <td>1</td>\n",
       "      <td>FIPS:30097</td>\n",
       "    </tr>\n",
       "    <tr>\n",
       "      <td>12</td>\n",
       "      <td>1893-01-01</td>\n",
       "      <td>2020-03-15</td>\n",
       "      <td>Teton County, MT</td>\n",
       "      <td>1</td>\n",
       "      <td>FIPS:30099</td>\n",
       "    </tr>\n",
       "    <tr>\n",
       "      <td>13</td>\n",
       "      <td>1905-06-20</td>\n",
       "      <td>2020-03-15</td>\n",
       "      <td>Toole County, MT</td>\n",
       "      <td>1</td>\n",
       "      <td>FIPS:30101</td>\n",
       "    </tr>\n",
       "    <tr>\n",
       "      <td>14</td>\n",
       "      <td>1925-09-01</td>\n",
       "      <td>2020-03-15</td>\n",
       "      <td>Treasure County, MT</td>\n",
       "      <td>1</td>\n",
       "      <td>FIPS:30103</td>\n",
       "    </tr>\n",
       "    <tr>\n",
       "      <td>15</td>\n",
       "      <td>1893-07-01</td>\n",
       "      <td>2020-03-16</td>\n",
       "      <td>Valley County, MT</td>\n",
       "      <td>1</td>\n",
       "      <td>FIPS:30105</td>\n",
       "    </tr>\n",
       "    <tr>\n",
       "      <td>16</td>\n",
       "      <td>1895-05-19</td>\n",
       "      <td>2020-03-15</td>\n",
       "      <td>Wheatland County, MT</td>\n",
       "      <td>1</td>\n",
       "      <td>FIPS:30107</td>\n",
       "    </tr>\n",
       "    <tr>\n",
       "      <td>17</td>\n",
       "      <td>1895-06-01</td>\n",
       "      <td>2020-03-15</td>\n",
       "      <td>Wibaux County, MT</td>\n",
       "      <td>1</td>\n",
       "      <td>FIPS:30109</td>\n",
       "    </tr>\n",
       "    <tr>\n",
       "      <td>18</td>\n",
       "      <td>1906-10-13</td>\n",
       "      <td>2020-03-16</td>\n",
       "      <td>Yellowstone County, MT</td>\n",
       "      <td>1</td>\n",
       "      <td>FIPS:30111</td>\n",
       "    </tr>\n",
       "    <tr>\n",
       "      <td>19</td>\n",
       "      <td>1878-05-01</td>\n",
       "      <td>2020-03-16</td>\n",
       "      <td>Nebraska</td>\n",
       "      <td>1</td>\n",
       "      <td>FIPS:31</td>\n",
       "    </tr>\n",
       "    <tr>\n",
       "      <td>20</td>\n",
       "      <td>1894-11-01</td>\n",
       "      <td>2020-03-16</td>\n",
       "      <td>Adams County, NE</td>\n",
       "      <td>1</td>\n",
       "      <td>FIPS:31001</td>\n",
       "    </tr>\n",
       "    <tr>\n",
       "      <td>21</td>\n",
       "      <td>1893-01-01</td>\n",
       "      <td>2020-03-15</td>\n",
       "      <td>Antelope County, NE</td>\n",
       "      <td>1</td>\n",
       "      <td>FIPS:31003</td>\n",
       "    </tr>\n",
       "    <tr>\n",
       "      <td>22</td>\n",
       "      <td>1909-08-01</td>\n",
       "      <td>2020-03-15</td>\n",
       "      <td>Arthur County, NE</td>\n",
       "      <td>1</td>\n",
       "      <td>FIPS:31005</td>\n",
       "    </tr>\n",
       "    <tr>\n",
       "      <td>23</td>\n",
       "      <td>1922-05-15</td>\n",
       "      <td>2020-03-15</td>\n",
       "      <td>Banner County, NE</td>\n",
       "      <td>1</td>\n",
       "      <td>FIPS:31007</td>\n",
       "    </tr>\n",
       "    <tr>\n",
       "      <td>24</td>\n",
       "      <td>1893-01-01</td>\n",
       "      <td>2020-03-15</td>\n",
       "      <td>Blaine County, NE</td>\n",
       "      <td>1</td>\n",
       "      <td>FIPS:31009</td>\n",
       "    </tr>\n",
       "  </tbody>\n",
       "</table>\n",
       "</div>"
      ],
      "text/plain": [
       "       mindate     maxdate                     name  datacoverage          id\n",
       "0   1893-02-01  2020-03-15  Powder River County, MT             1  FIPS:30075\n",
       "1   1893-01-01  2020-03-15        Powell County, MT             1  FIPS:30077\n",
       "2   1904-11-01  2020-03-15       Prairie County, MT             1  FIPS:30079\n",
       "3   1895-06-12  2020-03-15       Ravalli County, MT             1  FIPS:30081\n",
       "4   1900-05-04  2020-03-16      Richland County, MT             1  FIPS:30083\n",
       "5   1893-02-01  2020-03-16     Roosevelt County, MT             1  FIPS:30085\n",
       "6   1903-01-01  2020-03-15       Rosebud County, MT             1  FIPS:30087\n",
       "7   1898-09-01  2020-03-15       Sanders County, MT             1  FIPS:30089\n",
       "8   1906-07-06  2020-03-15      Sheridan County, MT             1  FIPS:30091\n",
       "9   1909-08-01  2020-03-16    Silver Bow County, MT             1  FIPS:30093\n",
       "10  1905-03-16  2020-03-15    Stillwater County, MT             1  FIPS:30095\n",
       "11  1894-04-08  2020-03-15   Sweet Grass County, MT             1  FIPS:30097\n",
       "12  1893-01-01  2020-03-15         Teton County, MT             1  FIPS:30099\n",
       "13  1905-06-20  2020-03-15         Toole County, MT             1  FIPS:30101\n",
       "14  1925-09-01  2020-03-15      Treasure County, MT             1  FIPS:30103\n",
       "15  1893-07-01  2020-03-16        Valley County, MT             1  FIPS:30105\n",
       "16  1895-05-19  2020-03-15     Wheatland County, MT             1  FIPS:30107\n",
       "17  1895-06-01  2020-03-15        Wibaux County, MT             1  FIPS:30109\n",
       "18  1906-10-13  2020-03-16   Yellowstone County, MT             1  FIPS:30111\n",
       "19  1878-05-01  2020-03-16                 Nebraska             1     FIPS:31\n",
       "20  1894-11-01  2020-03-16         Adams County, NE             1  FIPS:31001\n",
       "21  1893-01-01  2020-03-15      Antelope County, NE             1  FIPS:31003\n",
       "22  1909-08-01  2020-03-15        Arthur County, NE             1  FIPS:31005\n",
       "23  1922-05-15  2020-03-15        Banner County, NE             1  FIPS:31007\n",
       "24  1893-01-01  2020-03-15        Blaine County, NE             1  FIPS:31009"
      ]
     },
     "execution_count": 119,
     "metadata": {},
     "output_type": "execute_result"
    }
   ],
   "source": [
    "df_json\n"
   ]
  },
  {
   "cell_type": "markdown",
   "metadata": {},
   "source": [
    "How many records are in the DataFrame? How many columns does each record have? "
   ]
  },
  {
   "cell_type": "markdown",
   "metadata": {},
   "source": [
    "Filter the contents of the DataFrame to only show records where the name column contains the string \"Durham\"."
   ]
  },
  {
   "cell_type": "code",
   "execution_count": 132,
   "metadata": {},
   "outputs": [
    {
     "name": "stdout",
     "output_type": "stream",
     "text": [
      "Empty DataFrame\n",
      "Columns: [mindate, maxdate, name, datacoverage, id]\n",
      "Index: []\n"
     ]
    }
   ],
   "source": [
    "#df_json[df_json['name']=='Durham']\n",
    "\n",
    "x = df_json[df_json['name'] == 'Durham']\n",
    "print(x)"
   ]
  },
  {
   "cell_type": "markdown",
   "metadata": {},
   "source": [
    "## Read Multiple JSON Files"
   ]
  },
  {
   "cell_type": "markdown",
   "metadata": {},
   "source": [
    "Define a function called read_all_json_files. Given a string representing a path to a directory, this function should read all of the json files and return a Pandas DataFrame containing all of the objects. In addition to the data from the files, this DataFrame should also contain an additional column called \"source\". The source column should be populated with the name of the file from which this record originated from."
   ]
  },
  {
   "cell_type": "code",
   "execution_count": 137,
   "metadata": {},
   "outputs": [],
   "source": [
    "# implement me\n",
    "def read_all_json_files(JSON_ROOT):\n",
    "    for direpath, direnames, filenames in os.walk(JSON_ROOT):\n",
    "        result = []\n",
    "        for f in filenames:\n",
    "            if f.endswith('.json'):\n",
    "                json_content_2 = read_json(os.path.join(JSON_ROOT,f))\n",
    "                #result.append(json_content_2[\"results\"])\n",
    "                for i in json_content_2[\"results\"]:\n",
    "                    result.append(i)\n",
    "        df_loc = pd.DataFrame(result)\n",
    "        return df_loc "
   ]
  },
  {
   "cell_type": "markdown",
   "metadata": {},
   "source": [
    "Use the read_all_json_files function above to read the contents of all locations file acquired in the the Data Acquisition Lab.  \n",
    "Hint: It is easier if you put all of those files in a dedicated subdirectory ex: (./data/locations/)"
   ]
  },
  {
   "cell_type": "code",
   "execution_count": 139,
   "metadata": {},
   "outputs": [],
   "source": [
    "df = read_all_json_files('./data/locations')"
   ]
  },
  {
   "cell_type": "markdown",
   "metadata": {},
   "source": [
    "What is the shape of the DataFrame? Does this match the number of columns and records you expected?"
   ]
  },
  {
   "cell_type": "code",
   "execution_count": 1,
   "metadata": {},
   "outputs": [],
   "source": [
    "# Validate the shape of the DataFrame here\n"
   ]
  },
  {
   "cell_type": "markdown",
   "metadata": {},
   "source": [
    "Show the first few records of the DataFrame."
   ]
  },
  {
   "cell_type": "code",
   "execution_count": null,
   "metadata": {},
   "outputs": [],
   "source": [
    "# Show the first few records\n"
   ]
  },
  {
   "cell_type": "markdown",
   "metadata": {},
   "source": [
    "Show the last few records of the DataFrame."
   ]
  },
  {
   "cell_type": "code",
   "execution_count": null,
   "metadata": {},
   "outputs": [],
   "source": [
    "# Show the last few records\n"
   ]
  },
  {
   "cell_type": "markdown",
   "metadata": {},
   "source": [
    "## Validate Records Are Unique"
   ]
  },
  {
   "cell_type": "markdown",
   "metadata": {},
   "source": [
    "Provide two different ways to determine there are no duplicate records.  \n",
    "Hint: The id field should be unique."
   ]
  },
  {
   "cell_type": "code",
   "execution_count": null,
   "metadata": {},
   "outputs": [],
   "source": [
    "# one day to determine there are not duplicate records\n"
   ]
  },
  {
   "cell_type": "code",
   "execution_count": null,
   "metadata": {},
   "outputs": [],
   "source": [
    "# another way to determine there are no duplicate records\n"
   ]
  },
  {
   "cell_type": "markdown",
   "metadata": {},
   "source": [
    "# Peking In"
   ]
  },
  {
   "cell_type": "markdown",
   "metadata": {},
   "source": [
    "Show the record with id \"CITY:TU000041\". Which file did it come from? "
   ]
  },
  {
   "cell_type": "code",
   "execution_count": null,
   "metadata": {},
   "outputs": [],
   "source": [
    "# \n"
   ]
  },
  {
   "cell_type": "markdown",
   "metadata": {},
   "source": [
    "Show the record with id \"CLIM:0405\". Which file did it come from? "
   ]
  },
  {
   "cell_type": "code",
   "execution_count": null,
   "metadata": {},
   "outputs": [],
   "source": [
    "# \n"
   ]
  },
  {
   "cell_type": "markdown",
   "metadata": {},
   "source": [
    "How many unique values are there for the source column in the DataFrame?"
   ]
  },
  {
   "cell_type": "code",
   "execution_count": null,
   "metadata": {},
   "outputs": [],
   "source": [
    "# \n"
   ]
  },
  {
   "cell_type": "markdown",
   "metadata": {},
   "source": [
    "How many records did the locations_38.json file contain?"
   ]
  },
  {
   "cell_type": "code",
   "execution_count": null,
   "metadata": {},
   "outputs": [],
   "source": [
    "# \n"
   ]
  },
  {
   "cell_type": "markdown",
   "metadata": {},
   "source": [
    "We will work with this DataFrame in a subsequent part of the lab. Instead of repeating all of this work again, let's export the DataFrame to a pickled file."
   ]
  },
  {
   "cell_type": "code",
   "execution_count": null,
   "metadata": {},
   "outputs": [],
   "source": [
    "# export DataFrame to a pickled file called locations_data_frame.pickle. Save it to the data directory.\n"
   ]
  }
 ],
 "metadata": {
  "kernelspec": {
   "display_name": "Python 3",
   "language": "python",
   "name": "python3"
  },
  "language_info": {
   "codemirror_mode": {
    "name": "ipython",
    "version": 3
   },
   "file_extension": ".py",
   "mimetype": "text/x-python",
   "name": "python",
   "nbconvert_exporter": "python",
   "pygments_lexer": "ipython3",
   "version": "3.7.4"
  }
 },
 "nbformat": 4,
 "nbformat_minor": 2
}
